{
 "cells": [
  {
   "cell_type": "markdown",
   "id": "informational-upset",
   "metadata": {},
   "source": [
    "Implementando a média de taxas"
   ]
  },
  {
   "cell_type": "code",
   "execution_count": 9,
   "id": "harmful-lyric",
   "metadata": {},
   "outputs": [],
   "source": [
    "# Função que retorna a média de taxas\n",
    "mediaTaxas = function(x, y) {\n",
    "    \n",
    "media = mean(x)/mean(y)\n",
    "\n",
    "print(media)\n",
    "    \n",
    "}"
   ]
  },
  {
   "cell_type": "code",
   "execution_count": 13,
   "id": "mechanical-combat",
   "metadata": {},
   "outputs": [
    {
     "name": "stdout",
     "output_type": "stream",
     "text": [
      "[1] 0.04333333\n"
     ]
    }
   ],
   "source": [
    "# Teste para o caso 1 da aula\n",
    "\n",
    "x = c(3.0, 5.0, 4.2, 5.2, 8.6)\n",
    "y = c(100, 100, 100, 100, 200)\n",
    "\n",
    "mediaTaxas(x, y)"
   ]
  },
  {
   "cell_type": "code",
   "execution_count": 15,
   "id": "standard-municipality",
   "metadata": {},
   "outputs": [
    {
     "name": "stdout",
     "output_type": "stream",
     "text": [
      "[1] 1.022727\n"
     ]
    }
   ],
   "source": [
    "# Teste para o exercicio proposto\n",
    "\n",
    "x = c(40, 45, 50)\n",
    "y = c(80, 40, 12)\n",
    "\n",
    "mediaTaxas(x, y)"
   ]
  },
  {
   "cell_type": "code",
   "execution_count": null,
   "id": "brave-newspaper",
   "metadata": {},
   "outputs": [],
   "source": []
  }
 ],
 "metadata": {
  "kernelspec": {
   "display_name": "R",
   "language": "R",
   "name": "ir"
  },
  "language_info": {
   "codemirror_mode": "r",
   "file_extension": ".r",
   "mimetype": "text/x-r-source",
   "name": "R",
   "pygments_lexer": "r",
   "version": "3.6.3"
  }
 },
 "nbformat": 4,
 "nbformat_minor": 5
}
